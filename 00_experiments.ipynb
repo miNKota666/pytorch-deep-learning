{
 "cells": [
  {
   "cell_type": "code",
   "execution_count": 2,
   "id": "initial_id",
   "metadata": {
    "collapsed": true,
    "ExecuteTime": {
     "end_time": "2024-01-05T03:19:12.984835Z",
     "start_time": "2024-01-05T03:19:11.663962Z"
    }
   },
   "outputs": [],
   "source": [
    "import torch"
   ]
  },
  {
   "cell_type": "code",
   "execution_count": 2,
   "outputs": [
    {
     "name": "stdout",
     "output_type": "stream",
     "text": [
      "torch.int32|torch.Size([3])\n",
      "torch.float64\n"
     ]
    }
   ],
   "source": [
    "tensor = torch.tensor([1, 2, 3], dtype=torch.int32)\n",
    "print(tensor.dtype, tensor.shape, sep='|')\n",
    "tensor = tensor.to(dtype=torch.float64)\n",
    "print(tensor.dtype)"
   ],
   "metadata": {
    "collapsed": false,
    "ExecuteTime": {
     "end_time": "2024-01-05T03:04:41.337199Z",
     "start_time": "2024-01-05T03:04:41.331134Z"
    }
   },
   "id": "170cf69fd699cba2"
  },
  {
   "cell_type": "code",
   "execution_count": 13,
   "outputs": [],
   "source": [
    "n = 10_000\n",
    "custom_shape = (n,n)\n",
    "a = torch.rand(custom_shape)\n",
    "b = torch.rand_like(a)"
   ],
   "metadata": {
    "collapsed": false,
    "ExecuteTime": {
     "end_time": "2024-01-04T08:24:40.354394Z",
     "start_time": "2024-01-04T08:24:39.778197Z"
    }
   },
   "id": "b3134270e439eb9a"
  },
  {
   "cell_type": "code",
   "execution_count": 8,
   "outputs": [
    {
     "name": "stdout",
     "output_type": "stream",
     "text": [
      "24.3 ms ± 3.67 ms per loop (mean ± std. dev. of 7 runs, 10 loops each)\n"
     ]
    }
   ],
   "source": [
    "%%timeit\n",
    "a+b"
   ],
   "metadata": {
    "collapsed": false,
    "ExecuteTime": {
     "end_time": "2024-01-04T08:23:36.848471Z",
     "start_time": "2024-01-04T08:23:34.883257Z"
    }
   },
   "id": "35d81cb7287e1fb0"
  },
  {
   "cell_type": "code",
   "execution_count": 10,
   "outputs": [
    {
     "name": "stdout",
     "output_type": "stream",
     "text": [
      "24.5 ms ± 2.16 ms per loop (mean ± std. dev. of 7 runs, 10 loops each)\n"
     ]
    }
   ],
   "source": [
    "%%timeit\n",
    "torch.add(a,b)"
   ],
   "metadata": {
    "collapsed": false,
    "ExecuteTime": {
     "end_time": "2024-01-04T08:23:56.234300Z",
     "start_time": "2024-01-04T08:23:54.258472Z"
    }
   },
   "id": "1e9ee287a4074403"
  },
  {
   "cell_type": "code",
   "execution_count": 11,
   "outputs": [],
   "source": [
    "del a, b"
   ],
   "metadata": {
    "collapsed": false,
    "ExecuteTime": {
     "end_time": "2024-01-04T08:23:57.225894Z",
     "start_time": "2024-01-04T08:23:57.175078Z"
    }
   },
   "id": "101f082d2c49545d"
  },
  {
   "cell_type": "code",
   "execution_count": 100,
   "outputs": [
    {
     "name": "stdout",
     "output_type": "stream",
     "text": [
      "tensor([[[6., 6.],\n",
      "         [9., 3.]],\n",
      "\n",
      "        [[9., 8.],\n",
      "         [3., 2.]]], dtype=torch.float64)\n",
      "tensor(2., dtype=torch.float64)\n",
      "tensor(7)\n",
      "tensor(9., dtype=torch.float64)\n",
      "tensor(2)\n"
     ]
    }
   ],
   "source": [
    "a = torch.randint(low=1, high=10, size=(2,2,2))\n",
    "a = a.to(torch.float64)\n",
    "print(\n",
    "        a,\n",
    "        a.min(),\n",
    "        a.argmin(),\n",
    "        a.max(),\n",
    "        a.argmax(),\n",
    "        sep='\\n'\n",
    "        )"
   ],
   "metadata": {
    "collapsed": false,
    "ExecuteTime": {
     "end_time": "2024-01-04T08:40:46.149890Z",
     "start_time": "2024-01-04T08:40:46.127347Z"
    }
   },
   "id": "d24c093215ab6845"
  },
  {
   "cell_type": "code",
   "execution_count": 81,
   "outputs": [
    {
     "data": {
      "text/plain": "torch.Size([10])"
     },
     "execution_count": 81,
     "metadata": {},
     "output_type": "execute_result"
    }
   ],
   "source": [
    "x = torch.arange(start=0, end=10, dtype=torch.float64)\n",
    "x.shape"
   ],
   "metadata": {
    "collapsed": false,
    "ExecuteTime": {
     "end_time": "2024-01-05T03:34:31.890594Z",
     "start_time": "2024-01-05T03:34:31.886967Z"
    }
   },
   "id": "3c764c20d03a26e8"
  },
  {
   "cell_type": "code",
   "execution_count": 57,
   "outputs": [
    {
     "data": {
      "text/plain": "tensor([[0, 1, 2, 3, 4, 5, 6, 7, 8, 9],\n        [0, 1, 2, 3, 4, 5, 6, 7, 8, 9],\n        [0, 1, 2, 3, 4, 5, 6, 7, 8, 9],\n        [0, 1, 2, 3, 4, 5, 6, 7, 8, 9]])"
     },
     "execution_count": 57,
     "metadata": {},
     "output_type": "execute_result"
    }
   ],
   "source": [
    "torch.stack([x,x,x,x], dim = 0)"
   ],
   "metadata": {
    "collapsed": false,
    "ExecuteTime": {
     "end_time": "2024-01-05T03:30:28.420909Z",
     "start_time": "2024-01-05T03:30:28.415914Z"
    }
   },
   "id": "b8277600a04db379"
  },
  {
   "cell_type": "code",
   "execution_count": 76,
   "outputs": [
    {
     "data": {
      "text/plain": "torch.Size([10])"
     },
     "execution_count": 76,
     "metadata": {},
     "output_type": "execute_result"
    }
   ],
   "source": [
    "x.reshape(1,1,-1).squeeze().shape"
   ],
   "metadata": {
    "collapsed": false,
    "ExecuteTime": {
     "end_time": "2024-01-05T03:31:54.572409Z",
     "start_time": "2024-01-05T03:31:54.568107Z"
    }
   },
   "id": "5ab91aede117842f"
  },
  {
   "cell_type": "code",
   "execution_count": 108,
   "outputs": [
    {
     "data": {
      "text/plain": "tensor([[[[0.9285, 0.1711, 0.4778, 0.8404, 0.5929, 0.9988, 0.6958, 0.2536,\n           0.3420, 0.2825]]]], dtype=torch.float64)"
     },
     "execution_count": 108,
     "metadata": {},
     "output_type": "execute_result"
    }
   ],
   "source": [
    "y = torch.rand_like(x)\n",
    "y = y.reshape(1,1,-1)\n",
    "y.unsqueeze(0)"
   ],
   "metadata": {
    "collapsed": false,
    "ExecuteTime": {
     "end_time": "2024-01-05T03:40:00.160797Z",
     "start_time": "2024-01-05T03:40:00.155037Z"
    }
   },
   "id": "dcb8198e99fe20b"
  },
  {
   "cell_type": "code",
   "execution_count": 164,
   "outputs": [
    {
     "data": {
      "text/plain": "(tensor([[[1., 2., 3.],\n          [4., 5., 6.],\n          [7., 8., 9.]]], dtype=torch.float64),\n tensor([[1., 5., 9.]], dtype=torch.float64))"
     },
     "execution_count": 164,
     "metadata": {},
     "output_type": "execute_result"
    }
   ],
   "source": [
    "x = torch.arange(1,10, dtype=torch.float64).reshape(1,3,-1)\n",
    "x, torch.diagonal(x, dim1=1, dim2=2)\n"
   ],
   "metadata": {
    "collapsed": false,
    "ExecuteTime": {
     "end_time": "2024-01-05T04:06:33.384399Z",
     "start_time": "2024-01-05T04:06:33.380573Z"
    }
   },
   "id": "2f291d10479f7359"
  },
  {
   "cell_type": "code",
   "execution_count": 199,
   "outputs": [],
   "source": [
    "RANDOM_SEED = 45\n",
    "\n",
    "torch.manual_seed(RANDOM_SEED)\n",
    "x = torch.rand(3,3)\n",
    "\n",
    "torch.manual_seed(RANDOM_SEED)\n",
    "y = torch.rand_like(x)\n",
    "\n",
    "condition = x==y\n",
    "if condition.unique().sum() != 1:\n",
    "    raise ValueError('x and y should be equal')"
   ],
   "metadata": {
    "collapsed": false,
    "ExecuteTime": {
     "end_time": "2024-01-05T04:30:48.119820Z",
     "start_time": "2024-01-05T04:30:48.111666Z"
    }
   },
   "id": "ee790b577fb86e12"
  },
  {
   "cell_type": "code",
   "execution_count": 206,
   "outputs": [],
   "source": [
    "device = \"cuda\" if torch.cuda.is_available() else \"cpu\""
   ],
   "metadata": {
    "collapsed": false,
    "ExecuteTime": {
     "end_time": "2024-01-05T04:40:34.197065Z",
     "start_time": "2024-01-05T04:40:34.192670Z"
    }
   },
   "id": "25d47b8670ebba50"
  }
 ],
 "metadata": {
  "kernelspec": {
   "display_name": "Python 3",
   "language": "python",
   "name": "python3"
  },
  "language_info": {
   "codemirror_mode": {
    "name": "ipython",
    "version": 2
   },
   "file_extension": ".py",
   "mimetype": "text/x-python",
   "name": "python",
   "nbconvert_exporter": "python",
   "pygments_lexer": "ipython2",
   "version": "2.7.6"
  }
 },
 "nbformat": 4,
 "nbformat_minor": 5
}
